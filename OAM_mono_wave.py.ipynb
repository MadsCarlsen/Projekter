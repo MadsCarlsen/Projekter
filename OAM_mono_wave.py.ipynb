{
 "cells": [
  {
   "cell_type": "code",
   "execution_count": 2,
   "metadata": {
    "collapsed": true
   },
   "outputs": [],
   "source": [
    "import numpy as np\n",
    "import matplotlib.pyplot as plt\n",
    "from scipy.special import gamma\n",
    "from scipy.special import sph_harm\n",
    "from OutputInterface import OutputInterface\n",
    "import sperhical_expansion as se"
   ]
  },
  {
   "cell_type": "code",
   "execution_count": 29,
   "outputs": [],
   "source": [
    "file_name = 'output_files/Hydrogen.out'\n",
    "output = OutputInterface(file_name)\n",
    "Ip = -output.saved_orbitals[output.HOMO][0]\n",
    "kappa = np.sqrt(2*Ip)"
   ],
   "metadata": {
    "collapsed": false,
    "pycharm": {
     "name": "#%%\n"
    }
   }
  },
  {
   "cell_type": "code",
   "execution_count": 5,
   "outputs": [],
   "source": [
    "omega = 0.057     # Frequency of light\n",
    "Up = 0.22         # Ponderomotive potential\n",
    "\n",
    "dp = 4./250\n",
    "pz_list = np.arange(-1.7, 1.7, dp)\n",
    "px_list = np.arange(0, 1.7, dp)\n",
    "#pz_grid, px_grid = np.meshgrid(pz_list, px_list)\n",
    "py = 0"
   ],
   "metadata": {
    "collapsed": false,
    "pycharm": {
     "name": "#%%\n"
    }
   }
  },
  {
   "cell_type": "markdown",
   "source": [
    "### Functions to calculate the transition amplitude:"
   ],
   "metadata": {
    "collapsed": false,
    "pycharm": {
     "name": "#%% md\n"
    }
   }
  },
  {
   "cell_type": "code",
   "execution_count": 6,
   "outputs": [],
   "source": [
    "def Af(t):\n",
    "    return 2*np.sqrt(Up) * np.cos(omega * t)\n",
    "\n",
    "\n",
    "def Ef(t):\n",
    "    return 2*np.sqrt(Up) * omega * np.sin(omega * t)\n",
    "\n",
    "\n",
    "def saddle_times(p_par, p_perp, n):\n",
    "    \"\"\"\n",
    "    Finds the saddle point times for a monochromatic wave A = 2*sqrt(Up) cos(omega * t). See Eq. (4.4) in Andrew's thesis.\n",
    "\n",
    "    :param p_par: parallel momentum (pz)\n",
    "    :param p_perp: perpendicular momentum\n",
    "    \"\"\"\n",
    "    t1 =  2*np.pi*n/omega + 1/omega * np.arccos((-p_par - 1j*np.sqrt(2*Ip + p_perp**2)) / (2*np.sqrt(Up)))\n",
    "    t2 =  2*np.pi*n/omega - 1/omega * np.arccos((-p_par + 1j*np.sqrt(2*Ip + p_perp**2)) / (2*np.sqrt(Up)))\n",
    "    return t1, t2\n",
    "\n",
    "\n",
    "def action(p, pz, t):\n",
    "    \"\"\"\n",
    "    Action given the vector potential above. Assuming that the lower limit is just 0...\n",
    "    \"\"\"\n",
    "    return Ip*t + 0.5*p**2 + Up*(t + 1/(2*omega) * np.sin(2*omega*t)) + 2*pz/omega * np.sqrt(Up)*np.sin(omega*t)\n",
    "\n",
    "\n",
    "def I1(kappa, ddS, S, Z=1):\n",
    "    \"\"\"\n",
    "    Factor dependent of ts needed in calculation of M_asymp_LG\n",
    "\n",
    "    :param kappa: sqrt(2*Ip)\n",
    "    :param ddS: second derivative of the action\n",
    "    :param S: the action\n",
    "    :param Z: charge of the leftover core (+1 for single electron ionization)\n",
    "    \"\"\"\n",
    "    nu = Z/kappa - 2\n",
    "    return ddS**(-nu) * 1j**(nu/2) * gamma(nu/2) / (2*gamma(nu)) * np.sqrt(2*np.pi*1j/ddS) * (2*ddS)**(nu/2) * np.exp(1j * S)\n",
    "\n",
    "\n",
    "def I2(kappa, l, Z=1):\n",
    "    \"\"\"\n",
    "    Factor independent of ts, needed in the calculation of M_asymp_LG\n",
    "    \"\"\"\n",
    "    nu = Z/kappa\n",
    "    factor = kappa**(nu+3/2) * gamma(l+nu+3) / gamma(l+3/2) * (2*kappa)**(-l-1) * 2**(-nu-2)\n",
    "\n",
    "    # Determine the hypergeometric function in the saddle points (z=1 always):\n",
    "    a = 0.5 * (l - nu - 1)\n",
    "    b = 0.5 * (l - nu)\n",
    "    c = l + 3/2\n",
    "    hyper_geo = gamma(c) * gamma(c-a-b) / (gamma(c-a) * gamma(c-b))\n",
    "\n",
    "    return hyper_geo * factor\n",
    "\n",
    "\n",
    "def M_asymp_LG(px, py, pz, ts_list, clm_array, kappa, Z=1):\n",
    "    \"\"\"\n",
    "    Transition amplitude in length gauge for an asymptotic wave-function.\n",
    "    \"\"\"\n",
    "    M_res = 0\n",
    "    max_l = clm_array.shape[1]\n",
    "\n",
    "    for l in range(0, max_l):\n",
    "        # Find stuff not dependent on m or ts:\n",
    "        I2_p = I2(kappa, l+1, Z)\n",
    "        I2_m = I2(kappa, l-1, Z)\n",
    "\n",
    "        for m in range(-l, l+1):\n",
    "            sign = 0 if m >= 0 else 1\n",
    "            clm = clm_array[sign, l, m]\n",
    "\n",
    "            # Factors from recursion of spherical harmonics:\n",
    "            alpha_p = np.sqrt((l-m+1)*(l+m+1) / ((2*l+1)*(2*l+3)))\n",
    "            alpha_m = np.sqrt((l-m)*(l+m) / (2*l-1)*(2*l+1))\n",
    "\n",
    "            for ts in ts_list:\n",
    "                sum1 = 0\n",
    "                sum2 = 0\n",
    "\n",
    "                # Fix the coordinates\n",
    "                pz_t = pz + Af(ts)\n",
    "                p_t = np.sqrt(px**2 + py**2 + pz_t**2)  # Maybe calculate this another way?\n",
    "                p = np.sqrt(px**2 + py**2 + pz**2)\n",
    "                theta_t = np.arccos(pz_t / p_t)\n",
    "                phi_t = np.arctan2(py, px)\n",
    "\n",
    "                # Find the actions\n",
    "                ddS = -p_t * Ef(ts)  # Double derivative of the action\n",
    "                S = action(p, pz, ts)\n",
    "                action_factor = I1(kappa, ddS, S, Z)\n",
    "\n",
    "                sum1 += p_t **(l+1) * action_factor * sph_harm(m, l+1, phi_t, theta_t)\n",
    "                if alpha_m != 0:  # If alpha_m is zero the recursion has killed the sph_harm (that is l < abs(m))\n",
    "                    sum2 += p_t**(l-1) * action_factor * sph_harm(m, l-1, phi_t, theta_t)\n",
    "\n",
    "            # Add the l,m contribution to M\n",
    "            M_res += clm * ((-1j)**(l+1) * alpha_p * I2_p * sum1 + (-1j)**(l-1) * alpha_m * I2_m * sum2)"
   ],
   "metadata": {
    "collapsed": false,
    "pycharm": {
     "name": "#%%\n"
    }
   }
  },
  {
   "cell_type": "markdown",
   "source": [
    "### Let's try it out! First find the asymptotic expansion of the hydrogen wave function..."
   ],
   "metadata": {
    "collapsed": false,
    "pycharm": {
     "name": "#%% md\n"
    }
   }
  },
  {
   "cell_type": "code",
   "execution_count": 74,
   "outputs": [
    {
     "name": "stdout",
     "output_type": "stream",
     "text": [
      "Evaluating at r=1.0000 \t Nr. 1/30\n",
      "Evaluating at r=1.1724 \t Nr. 2/30\n",
      "Evaluating at r=1.3448 \t Nr. 3/30\n",
      "Evaluating at r=1.5172 \t Nr. 4/30\n",
      "Evaluating at r=1.6897 \t Nr. 5/30\n",
      "Evaluating at r=1.8621 \t Nr. 6/30\n",
      "Evaluating at r=2.0345 \t Nr. 7/30\n",
      "Evaluating at r=2.2069 \t Nr. 8/30\n",
      "Evaluating at r=2.3793 \t Nr. 9/30\n",
      "Evaluating at r=2.5517 \t Nr. 10/30\n",
      "Evaluating at r=2.7241 \t Nr. 11/30\n",
      "Evaluating at r=2.8966 \t Nr. 12/30\n",
      "Evaluating at r=3.0690 \t Nr. 13/30\n",
      "Evaluating at r=3.2414 \t Nr. 14/30\n",
      "Evaluating at r=3.4138 \t Nr. 15/30\n",
      "Evaluating at r=3.5862 \t Nr. 16/30\n",
      "Evaluating at r=3.7586 \t Nr. 17/30\n",
      "Evaluating at r=3.9310 \t Nr. 18/30\n",
      "Evaluating at r=4.1034 \t Nr. 19/30\n",
      "Evaluating at r=4.2759 \t Nr. 20/30\n",
      "Evaluating at r=4.4483 \t Nr. 21/30\n",
      "Evaluating at r=4.6207 \t Nr. 22/30\n",
      "Evaluating at r=4.7931 \t Nr. 23/30\n",
      "Evaluating at r=4.9655 \t Nr. 24/30\n",
      "Evaluating at r=5.1379 \t Nr. 25/30\n",
      "Evaluating at r=5.3103 \t Nr. 26/30\n",
      "Evaluating at r=5.4828 \t Nr. 27/30\n",
      "Evaluating at r=5.6552 \t Nr. 28/30\n",
      "Evaluating at r=5.8276 \t Nr. 29/30\n",
      "Evaluating at r=6.0000 \t Nr. 30/30\n"
     ]
    }
   ],
   "source": [
    "n_r = 30\n",
    "r_lst = np.linspace(1, 6, n_r)\n",
    "flms = []\n",
    "for i, r in enumerate(r_lst):\n",
    "    print(f'Evaluating at r={r:.4f} \\t Nr. {i+1}/{n_r}')\n",
    "    flms.append(se.spherical_expansion(lambda theta, phi: output.eval_orbital_spherical(r, theta, phi), 30))"
   ],
   "metadata": {
    "collapsed": false,
    "pycharm": {
     "name": "#%%\n"
    }
   }
  },
  {
   "cell_type": "code",
   "execution_count": 75,
   "outputs": [
    {
     "data": {
      "text/plain": "<Figure size 432x288 with 1 Axes>",
      "image/png": "[encoded data removed]"
     },
     "metadata": {},
     "output_type": "display_data"
    }
   ],
   "source": [
    "plt.figure(facecolor='white')\n",
    "\n",
    "def radial(r, kappa):\n",
    "    return r**(1/kappa - 1) * np.exp(-kappa*r)\n",
    "\n",
    "def hyd_1s(r):\n",
    "    return 1/np.sqrt(np.pi) * np.exp(-r)\n",
    "\n",
    "sgn, l, m = 0,0,0\n",
    "#plt.plot(r_lst, np.array([output.eval_orbital_spherical(r, np.pi/2, 0) for r in r_lst])*100, label=r'$\\psi_0$')\n",
    "plt.plot(r_lst, np.abs(np.array(flms)[:, sgn, l, m])/radial(r_lst, kappa), label=r'$c_{\\ell m}$')\n",
    "plt.plot(r_lst, np.abs(np.array(flms)[:, sgn, l, m]),  label=r'$f_{\\ell m}$')\n",
    "plt.legend(frameon=False)\n",
    "plt.xlabel(r'Radius $r$')\n",
    "plt.ylabel(r'Absolute amplitude')\n",
    "plt.minorticks_on()\n",
    "plt.xlim(r_lst[0], r_lst[-1])\n",
    "plt.ylim(bottom=0)\n",
    "plt.tight_layout()"
   ],
   "metadata": {
    "collapsed": false,
    "pycharm": {
     "name": "#%%\n"
    }
   }
  },
  {
   "cell_type": "code",
   "execution_count": 73,
   "outputs": [
    {
     "data": {
      "text/plain": "<Figure size 432x288 with 1 Axes>",
      "image/png": "[encoded data removed]"
     },
     "metadata": {},
     "output_type": "display_data"
    }
   ],
   "source": [
    "clm_array = se.get_as_coeffs(output.eval_orbital_spherical, 2.5, 30, Ip)\n",
    "\n",
    "phi = 0\n",
    "theta = 0\n",
    "\n",
    "plt.figure(facecolor='white')\n",
    "plt.plot(r_lst, np.abs(se.eval_asymptotic(r_lst, theta, phi, clm_array, Ip))**2, label='Asymptotic')\n",
    "plt.plot(r_lst, np.abs(output.eval_orbital_spherical(r_lst, theta, phi))**2, label='GTO')\n",
    "plt.plot(r_lst, np.abs(hyd_1s(r_lst))**2, label='Analytic Hydrogen')\n",
    "plt.legend()\n",
    "plt.xlabel('Radius (a.u.)')\n",
    "plt.ylabel('Wave function squared')\n",
    "plt.show()"
   ],
   "metadata": {
    "collapsed": false,
    "pycharm": {
     "name": "#%%\n"
    }
   }
  },
  {
   "cell_type": "markdown",
   "source": [
    "### Now let's try to calculate the transition amplitude!"
   ],
   "metadata": {
    "collapsed": false,
    "pycharm": {
     "name": "#%% md\n"
    }
   }
  },
  {
   "cell_type": "code",
   "execution_count": null,
   "outputs": [],
   "source": [],
   "metadata": {
    "collapsed": false,
    "pycharm": {
     "name": "#%%\n"
    }
   }
  }
 ],
 "metadata": {
  "kernelspec": {
   "display_name": "Python 3",
   "language": "python",
   "name": "python3"
  },
  "language_info": {
   "codemirror_mode": {
    "name": "ipython",
    "version": 2
   },
   "file_extension": ".py",
   "mimetype": "text/x-python",
   "name": "python",
   "nbconvert_exporter": "python",
   "pygments_lexer": "ipython2",
   "version": "2.7.6"
  }
 },
 "nbformat": 4,
 "nbformat_minor": 0
}