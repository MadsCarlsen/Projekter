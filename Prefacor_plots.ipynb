{
 "cells": [
  {
   "cell_type": "code",
   "execution_count": 10,
   "metadata": {
    "collapsed": true
   },
   "outputs": [],
   "source": [
    "frmoimport numpy as np\n",
    "import matplotlib.pyplot as plt\n",
    "from prefactors import GTO_prefactor_LG\n",
    "from OutputInterface import OutputInterface"
   ]
  },
  {
   "cell_type": "code",
   "execution_count": 54,
   "outputs": [],
   "source": [
    "from scipy.special import binom\n",
    "from scipy.special import gamma\n",
    "def binom_method(px, py, pz, z0, i, j, k, alpha, N, A, E):\n",
    "    \"\"\"\n",
    "    Binomial method for finding the prefactor for a GTO\n",
    "    \"\"\"\n",
    "    pz = pz + A\n",
    "\n",
    "    #N = (2*alpha/np.pi)**(3/4) * np.sqrt((8*alpha)**(i+j+k) * np.math.factorial(i) \\\n",
    "    #    * np.math.factorial(j) * np.math.factorial(k) / (np.math.factorial(2*i) \\\n",
    "    #    * np.math.factorial(2*j) * np.math.factorial(2*k)))\n",
    "\n",
    "    Ix = np.exp(-px**2/(4*alpha))\n",
    "    Iy = np.exp(-py**2/(4*alpha))\n",
    "    Iz = np.exp(-pz**2/(4*alpha)) * np.exp(-1j*pz*z0) #*np.exp(-1j*pz*2*z0)  # This term should be like this?\n",
    "\n",
    "    sum_x = 0\n",
    "    sum_y = 0\n",
    "    sum_z = 0\n",
    "    for nx in range(i+1):\n",
    "        sum_x += binom(i,nx) * (-1j*px/(2*alpha))**(i-nx) * 0.5 * (1+(-1)**nx) * alpha**(-(1+nx)/2) * gamma((1+nx)/2)\n",
    "\n",
    "    for ny in range(j+1):\n",
    "        sum_y += binom(j,ny) * (-1j*py/(2*alpha))**(j-ny) * 0.5 * (1+(-1)**ny) * alpha**(-(1+ny)/2) * gamma((1+ny)/2)\n",
    "\n",
    "    for nz in range(k+1):\n",
    "        sum_z += binom(k,nz) * (-1j*pz/(2*alpha))**(k-nz) * ( (z0-1j*pz/(2*alpha)) * 0.5*(1+(-1)**nz) * alpha**(-(1+nz)/2) * gamma((1+nz)/2) \\\n",
    "            + 0.5*(1+(-1)**(nz+1)) *alpha**(-(nz+2)/2)*gamma((nz+2)/2) )\n",
    "\n",
    "    return N/(2*np.pi)**(3/2) * sum_x*Ix * sum_y*Iy * sum_z*Iz * E"
   ],
   "metadata": {
    "collapsed": false,
    "pycharm": {
     "name": "#%%\n"
    }
   }
  },
  {
   "cell_type": "code",
   "execution_count": 2,
   "outputs": [],
   "source": [
    "omega = 0.057     # Frequency of light?\n",
    "Up = 0.22         # Ponderomotive potential\n",
    "Ip = 0.579        # Ionization potential\n",
    "\n",
    "dp = 4./250\n",
    "pz_list = np.arange(-1.7, 1.7, dp)\n",
    "px_list = np.arange(0, 1.7, dp)\n",
    "#pz_grid, px_grid = np.meshgrid(pz_list, px_list)\n",
    "py = 0"
   ],
   "metadata": {
    "collapsed": false,
    "pycharm": {
     "name": "#%%\n"
    }
   }
  },
  {
   "cell_type": "code",
   "execution_count": 3,
   "outputs": [],
   "source": [
    "def Af(t):\n",
    "    return 2*np.sqrt(Up) * np.cos(omega * t)\n",
    "\n",
    "def Ef(t):\n",
    "    return 2*np.sqrt(Up) * omega * np.sin(omega * t)\n",
    "\n",
    "def saddle_times(p_par, p_perp, n):\n",
    "    \"\"\"\n",
    "        Finds the saddle point times for a monochromatic wave A = 2*sqrt(Up) cos(omega * t). See Eq. (4.4) in Andrew's thesis.\n",
    "        p_par : parallel momentum (pz)\n",
    "        p_perp : perpendicular momentum\n",
    "    \"\"\"\n",
    "    t1 =  2*np.pi*n/omega + 1/omega * np.arccos((-p_par - 1j*np.sqrt(2*Ip + p_perp**2)) / (2*np.sqrt(Up)))\n",
    "    t2 =  2*np.pi*n/omega - 1/omega * np.arccos((-p_par + 1j*np.sqrt(2*Ip + p_perp**2)) / (2*np.sqrt(Up)))\n",
    "    return t1, t2"
   ],
   "metadata": {
    "collapsed": false,
    "pycharm": {
     "name": "#%%\n"
    }
   }
  },
  {
   "cell_type": "code",
   "execution_count": 44,
   "outputs": [],
   "source": [
    "inter = OutputInterface('output_files/Hydrogen.out')\n",
    "GTO_coeffs = inter.output_GTOs()  # HOMO orbital coeffs"
   ],
   "metadata": {
    "collapsed": false,
    "pycharm": {
     "name": "#%%\n"
    }
   }
  },
  {
   "cell_type": "markdown",
   "source": [
    "### Try with Hermite GTO prefacor function"
   ],
   "metadata": {
    "collapsed": false
   }
  },
  {
   "cell_type": "code",
   "execution_count": 63,
   "outputs": [],
   "source": [
    "d_grid = np.zeros((len(pz_list), len(px_list)), dtype=complex)\n",
    "for m,pz in enumerate(pz_list):\n",
    "    for n,px in enumerate(px_list):\n",
    "        ts = saddle_times(pz,px,0)[0]\n",
    "        #print(ts, Af(ts), Ef(ts))\n",
    "        for coeffs in GTO_coeffs:\n",
    "            N, alpha, i, j, k, x0, y0, z0 = coeffs\n",
    "            #print(GTO_prefactor_LG(px, py, pz, x0, y0, z0, i, j, k, alpha, N, Af(ts), Ef(ts)))\n",
    "            d_grid[m,n] += GTO_prefactor_LG(px, py, pz, x0, y0, z0, i, j, k, alpha, N, Af(ts), Ef(ts))\n",
    "\n",
    "d_square = np.abs(d_grid)**2\n",
    "d_max = np.max(d_square)"
   ],
   "metadata": {
    "collapsed": false,
    "pycharm": {
     "name": "#%%\n"
    }
   }
  },
  {
   "cell_type": "code",
   "execution_count": 64,
   "outputs": [
    {
     "data": {
      "text/plain": "<matplotlib.colorbar.Colorbar at 0x7f4a4550ce20>"
     },
     "execution_count": 64,
     "metadata": {},
     "output_type": "execute_result"
    },
    {
     "data": {
      "text/plain": "<Figure size 432x288 with 2 Axes>",
      "image/png": "[encoded data removed]"
     },
     "metadata": {
      "needs_background": "light"
     },
     "output_type": "display_data"
    }
   ],
   "source": [
    "plt.imshow(np.flip(d_square.T,0), cmap='inferno', aspect=1, interpolation = 'bicubic', #norm=LogNorm(vmin=M_max*1e-6, vmax=M_max),\n",
    "           extent = (np.amin(pz_list), np.amax(pz_list), np.amin(px_list), np.amax(px_list)))\n",
    "plt.colorbar()"
   ],
   "metadata": {
    "collapsed": false,
    "pycharm": {
     "name": "#%%\n"
    }
   }
  },
  {
   "cell_type": "markdown",
   "source": [
    "### Try with bionmial version"
   ],
   "metadata": {
    "collapsed": false,
    "pycharm": {
     "name": "#%% md\n"
    }
   }
  },
  {
   "cell_type": "code",
   "execution_count": 65,
   "outputs": [],
   "source": [
    "d_grid = np.zeros((len(pz_list), len(px_list)), dtype=complex)\n",
    "for m,pz in enumerate(pz_list):\n",
    "    for n,px in enumerate(px_list):\n",
    "        ts = saddle_times(pz,px,0)[0]\n",
    "        for coeffs in GTO_coeffs:\n",
    "            N, alpha, i, j, k, x0, y0, z0 = coeffs\n",
    "            d_grid[m,n] += binom_method(px, py, pz, z0, i, j, k, alpha, N, Af(ts), Ef(ts))\n",
    "\n",
    "d_square = np.abs(d_grid)**2\n",
    "d_max = np.max(d_square)"
   ],
   "metadata": {
    "collapsed": false,
    "pycharm": {
     "name": "#%%\n"
    }
   }
  },
  {
   "cell_type": "code",
   "execution_count": 66,
   "outputs": [
    {
     "data": {
      "text/plain": "<matplotlib.colorbar.Colorbar at 0x7f4a453df730>"
     },
     "execution_count": 66,
     "metadata": {},
     "output_type": "execute_result"
    },
    {
     "data": {
      "text/plain": "<Figure size 432x288 with 2 Axes>",
      "image/png": "[encoded data removed]"
     },
     "metadata": {
      "needs_background": "light"
     },
     "output_type": "display_data"
    }
   ],
   "source": [
    "plt.imshow(np.flip(d_square.T,0), cmap='inferno', aspect=1, interpolation = 'bicubic', #norm=LogNorm(vmin=M_max*1e-6, vmax=M_max),\n",
    "           extent = (np.amin(pz_list), np.amax(pz_list), np.amin(px_list), np.amax(px_list)))\n",
    "plt.colorbar()"
   ],
   "metadata": {
    "collapsed": false,
    "pycharm": {
     "name": "#%%\n"
    }
   }
  },
  {
   "cell_type": "markdown",
   "source": [
    "### The two methods seem to agree. But it still does not look like what we would think? Let's try to compare with the numerical calculation of the integrals.. Going to take forever.."
   ],
   "metadata": {
    "collapsed": false,
    "pycharm": {
     "name": "#%% md\n"
    }
   }
  },
  {
   "cell_type": "code",
   "execution_count": 68,
   "outputs": [],
   "source": [
    "from scipy.integrate import tplquad\n",
    "\n",
    "def GTO(x, y, z, x0, y0, z0, i, j, k, alpha):\n",
    "    xd = x-x0\n",
    "    yd = y-y0\n",
    "    zd = z-z0\n",
    "    N = (2*alpha/np.pi)**(3/4) * np.sqrt((8*alpha)**(i+j+k) * np.math.factorial(i) \\\n",
    "        * np.math.factorial(j) * np.math.factorial(k) / (np.math.factorial(2*i) \\\n",
    "        * np.math.factorial(2*j) * np.math.factorial(2*k)))\n",
    "    return N * xd**i * yd**j * zd**k * np.exp(-alpha*(xd**2 + yd**2 + zd**2))\n",
    "\n",
    "def func(x,y,z):\n",
    "    res = np.exp(-1j*(px*x + py*y + pz*z + z*A)) * E*z * GTO(x,y,z,x0,y0,z0,i,j,k,alpha)\n",
    "    return 1/(2*np.pi)**(3/2) * res\n",
    "\n",
    "def cmplx_quad(func, a, b):\n",
    "    def real_func(x,y,z):\n",
    "        return np.real(func(x,y,z))\n",
    "\n",
    "    def imag_func(x,y,z):\n",
    "        return np.imag(func(x,y,z))\n",
    "    real_integral = tplquad(real_func, a, b, a, b, a, b, epsabs=1e-4, epsrel=1e-4)\n",
    "    imag_integral = tplquad(imag_func, a, b, a, b, a, b, epsabs=1e-4, epsrel=1e-4)\n",
    "    return [real_integral[0] + 1j*imag_integral[0], real_integral[1:], imag_integral[1:]]"
   ],
   "metadata": {
    "collapsed": false,
    "pycharm": {
     "name": "#%%\n"
    }
   }
  },
  {
   "cell_type": "code",
   "execution_count": 73,
   "outputs": [
    {
     "name": "stdout",
     "output_type": "stream",
     "text": [
      "0\n"
     ]
    },
    {
     "name": "stderr",
     "output_type": "stream",
     "text": [
      "/tmp/ipykernel_6181/806930514.py:13: RuntimeWarning: overflow encountered in exp\n",
      "  res = np.exp(-1j*(px*x + py*y + pz*z + z*A)) * E*z * GTO(x,y,z,x0,y0,z0,i,j,k,alpha)\n",
      "/tmp/ipykernel_6181/806930514.py:13: RuntimeWarning: invalid value encountered in cdouble_scalars\n",
      "  res = np.exp(-1j*(px*x + py*y + pz*z + z*A)) * E*z * GTO(x,y,z,x0,y0,z0,i,j,k,alpha)\n"
     ]
    },
    {
     "ename": "KeyboardInterrupt",
     "evalue": "",
     "output_type": "error",
     "traceback": [
      "\u001B[0;31m---------------------------------------------------------------------------\u001B[0m",
      "\u001B[0;31mKeyboardInterrupt\u001B[0m                         Traceback (most recent call last)",
      "Input \u001B[0;32mIn [73]\u001B[0m, in \u001B[0;36m<cell line: 6>\u001B[0;34m()\u001B[0m\n\u001B[1;32m     12\u001B[0m         \u001B[38;5;28;01mfor\u001B[39;00m coeffs \u001B[38;5;129;01min\u001B[39;00m GTO_coeffs:\n\u001B[1;32m     13\u001B[0m             N, alpha, i, j, k, x0, y0, z0 \u001B[38;5;241m=\u001B[39m coeffs\n\u001B[0;32m---> 14\u001B[0m             d_grid[m,n] \u001B[38;5;241m+\u001B[39m\u001B[38;5;241m=\u001B[39m \u001B[43mcmplx_quad\u001B[49m\u001B[43m(\u001B[49m\u001B[43mfunc\u001B[49m\u001B[43m,\u001B[49m\u001B[43m \u001B[49m\u001B[38;5;241;43m-\u001B[39;49m\u001B[43mnp\u001B[49m\u001B[38;5;241;43m.\u001B[39;49m\u001B[43minf\u001B[49m\u001B[43m,\u001B[49m\u001B[43m \u001B[49m\u001B[43mnp\u001B[49m\u001B[38;5;241;43m.\u001B[39;49m\u001B[43minf\u001B[49m\u001B[43m)\u001B[49m[\u001B[38;5;241m0\u001B[39m]\n\u001B[1;32m     16\u001B[0m d_square \u001B[38;5;241m=\u001B[39m np\u001B[38;5;241m.\u001B[39mabs(d_grid)\u001B[38;5;241m*\u001B[39m\u001B[38;5;241m*\u001B[39m\u001B[38;5;241m2\u001B[39m\n\u001B[1;32m     17\u001B[0m d_max \u001B[38;5;241m=\u001B[39m np\u001B[38;5;241m.\u001B[39mmax(d_square)\n",
      "Input \u001B[0;32mIn [68]\u001B[0m, in \u001B[0;36mcmplx_quad\u001B[0;34m(func, a, b)\u001B[0m\n\u001B[1;32m     20\u001B[0m \u001B[38;5;28;01mdef\u001B[39;00m \u001B[38;5;21mimag_func\u001B[39m(x,y,z):\n\u001B[1;32m     21\u001B[0m     \u001B[38;5;28;01mreturn\u001B[39;00m np\u001B[38;5;241m.\u001B[39mimag(func(x,y,z))\n\u001B[0;32m---> 22\u001B[0m real_integral \u001B[38;5;241m=\u001B[39m \u001B[43mtplquad\u001B[49m\u001B[43m(\u001B[49m\u001B[43mreal_func\u001B[49m\u001B[43m,\u001B[49m\u001B[43m \u001B[49m\u001B[43ma\u001B[49m\u001B[43m,\u001B[49m\u001B[43m \u001B[49m\u001B[43mb\u001B[49m\u001B[43m,\u001B[49m\u001B[43m \u001B[49m\u001B[43ma\u001B[49m\u001B[43m,\u001B[49m\u001B[43m \u001B[49m\u001B[43mb\u001B[49m\u001B[43m,\u001B[49m\u001B[43m \u001B[49m\u001B[43ma\u001B[49m\u001B[43m,\u001B[49m\u001B[43m \u001B[49m\u001B[43mb\u001B[49m\u001B[43m,\u001B[49m\u001B[43m \u001B[49m\u001B[43mepsabs\u001B[49m\u001B[38;5;241;43m=\u001B[39;49m\u001B[38;5;241;43m1e-4\u001B[39;49m\u001B[43m,\u001B[49m\u001B[43m \u001B[49m\u001B[43mepsrel\u001B[49m\u001B[38;5;241;43m=\u001B[39;49m\u001B[38;5;241;43m1e-4\u001B[39;49m\u001B[43m)\u001B[49m\n\u001B[1;32m     23\u001B[0m imag_integral \u001B[38;5;241m=\u001B[39m tplquad(imag_func, a, b, a, b, a, b, epsabs\u001B[38;5;241m=\u001B[39m\u001B[38;5;241m1e-4\u001B[39m, epsrel\u001B[38;5;241m=\u001B[39m\u001B[38;5;241m1e-4\u001B[39m)\n\u001B[1;32m     24\u001B[0m \u001B[38;5;28;01mreturn\u001B[39;00m [real_integral[\u001B[38;5;241m0\u001B[39m] \u001B[38;5;241m+\u001B[39m \u001B[38;5;241m1\u001B[39mj\u001B[38;5;241m*\u001B[39mimag_integral[\u001B[38;5;241m0\u001B[39m], real_integral[\u001B[38;5;241m1\u001B[39m:], imag_integral[\u001B[38;5;241m1\u001B[39m:]]\n",
      "File \u001B[0;32m~/.local/lib/python3.8/site-packages/scipy/integrate/quadpack.py:690\u001B[0m, in \u001B[0;36mtplquad\u001B[0;34m(func, a, b, gfun, hfun, qfun, rfun, args, epsabs, epsrel)\u001B[0m\n\u001B[1;32m    686\u001B[0m     \u001B[38;5;28;01mreturn\u001B[39;00m [gfun(args[\u001B[38;5;241m0\u001B[39m]) \u001B[38;5;28;01mif\u001B[39;00m callable(gfun) \u001B[38;5;28;01melse\u001B[39;00m gfun,\n\u001B[1;32m    687\u001B[0m             hfun(args[\u001B[38;5;241m0\u001B[39m]) \u001B[38;5;28;01mif\u001B[39;00m callable(hfun) \u001B[38;5;28;01melse\u001B[39;00m hfun]\n\u001B[1;32m    689\u001B[0m ranges \u001B[38;5;241m=\u001B[39m [ranges0, ranges1, [a, b]]\n\u001B[0;32m--> 690\u001B[0m \u001B[38;5;28;01mreturn\u001B[39;00m \u001B[43mnquad\u001B[49m\u001B[43m(\u001B[49m\u001B[43mfunc\u001B[49m\u001B[43m,\u001B[49m\u001B[43m \u001B[49m\u001B[43mranges\u001B[49m\u001B[43m,\u001B[49m\u001B[43m \u001B[49m\u001B[43margs\u001B[49m\u001B[38;5;241;43m=\u001B[39;49m\u001B[43margs\u001B[49m\u001B[43m,\u001B[49m\n\u001B[1;32m    691\u001B[0m \u001B[43m        \u001B[49m\u001B[43mopts\u001B[49m\u001B[38;5;241;43m=\u001B[39;49m\u001B[43m{\u001B[49m\u001B[38;5;124;43m\"\u001B[39;49m\u001B[38;5;124;43mepsabs\u001B[39;49m\u001B[38;5;124;43m\"\u001B[39;49m\u001B[43m:\u001B[49m\u001B[43m \u001B[49m\u001B[43mepsabs\u001B[49m\u001B[43m,\u001B[49m\u001B[43m \u001B[49m\u001B[38;5;124;43m\"\u001B[39;49m\u001B[38;5;124;43mepsrel\u001B[39;49m\u001B[38;5;124;43m\"\u001B[39;49m\u001B[43m:\u001B[49m\u001B[43m \u001B[49m\u001B[43mepsrel\u001B[49m\u001B[43m}\u001B[49m\u001B[43m)\u001B[49m\n",
      "File \u001B[0;32m~/.local/lib/python3.8/site-packages/scipy/integrate/quadpack.py:825\u001B[0m, in \u001B[0;36mnquad\u001B[0;34m(func, ranges, args, opts, full_output)\u001B[0m\n\u001B[1;32m    823\u001B[0m \u001B[38;5;28;01melse\u001B[39;00m:\n\u001B[1;32m    824\u001B[0m     opts \u001B[38;5;241m=\u001B[39m [opt \u001B[38;5;28;01mif\u001B[39;00m callable(opt) \u001B[38;5;28;01melse\u001B[39;00m _OptFunc(opt) \u001B[38;5;28;01mfor\u001B[39;00m opt \u001B[38;5;129;01min\u001B[39;00m opts]\n\u001B[0;32m--> 825\u001B[0m \u001B[38;5;28;01mreturn\u001B[39;00m \u001B[43m_NQuad\u001B[49m\u001B[43m(\u001B[49m\u001B[43mfunc\u001B[49m\u001B[43m,\u001B[49m\u001B[43m \u001B[49m\u001B[43mranges\u001B[49m\u001B[43m,\u001B[49m\u001B[43m \u001B[49m\u001B[43mopts\u001B[49m\u001B[43m,\u001B[49m\u001B[43m \u001B[49m\u001B[43mfull_output\u001B[49m\u001B[43m)\u001B[49m\u001B[38;5;241;43m.\u001B[39;49m\u001B[43mintegrate\u001B[49m\u001B[43m(\u001B[49m\u001B[38;5;241;43m*\u001B[39;49m\u001B[43margs\u001B[49m\u001B[43m)\u001B[49m\n",
      "File \u001B[0;32m~/.local/lib/python3.8/site-packages/scipy/integrate/quadpack.py:879\u001B[0m, in \u001B[0;36m_NQuad.integrate\u001B[0;34m(self, *args, **kwargs)\u001B[0m\n\u001B[1;32m    877\u001B[0m \u001B[38;5;28;01melse\u001B[39;00m:\n\u001B[1;32m    878\u001B[0m     f \u001B[38;5;241m=\u001B[39m partial(\u001B[38;5;28mself\u001B[39m\u001B[38;5;241m.\u001B[39mintegrate, depth\u001B[38;5;241m=\u001B[39mdepth\u001B[38;5;241m+\u001B[39m\u001B[38;5;241m1\u001B[39m)\n\u001B[0;32m--> 879\u001B[0m quad_r \u001B[38;5;241m=\u001B[39m \u001B[43mquad\u001B[49m\u001B[43m(\u001B[49m\u001B[43mf\u001B[49m\u001B[43m,\u001B[49m\u001B[43m \u001B[49m\u001B[43mlow\u001B[49m\u001B[43m,\u001B[49m\u001B[43m \u001B[49m\u001B[43mhigh\u001B[49m\u001B[43m,\u001B[49m\u001B[43m \u001B[49m\u001B[43margs\u001B[49m\u001B[38;5;241;43m=\u001B[39;49m\u001B[43margs\u001B[49m\u001B[43m,\u001B[49m\u001B[43m \u001B[49m\u001B[43mfull_output\u001B[49m\u001B[38;5;241;43m=\u001B[39;49m\u001B[38;5;28;43mself\u001B[39;49m\u001B[38;5;241;43m.\u001B[39;49m\u001B[43mfull_output\u001B[49m\u001B[43m,\u001B[49m\n\u001B[1;32m    880\u001B[0m \u001B[43m              \u001B[49m\u001B[38;5;241;43m*\u001B[39;49m\u001B[38;5;241;43m*\u001B[39;49m\u001B[43mopt\u001B[49m\u001B[43m)\u001B[49m\n\u001B[1;32m    881\u001B[0m value \u001B[38;5;241m=\u001B[39m quad_r[\u001B[38;5;241m0\u001B[39m]\n\u001B[1;32m    882\u001B[0m abserr \u001B[38;5;241m=\u001B[39m quad_r[\u001B[38;5;241m1\u001B[39m]\n",
      "File \u001B[0;32m~/.local/lib/python3.8/site-packages/scipy/integrate/quadpack.py:351\u001B[0m, in \u001B[0;36mquad\u001B[0;34m(func, a, b, args, full_output, epsabs, epsrel, limit, points, weight, wvar, wopts, maxp1, limlst)\u001B[0m\n\u001B[1;32m    348\u001B[0m flip, a, b \u001B[38;5;241m=\u001B[39m b \u001B[38;5;241m<\u001B[39m a, \u001B[38;5;28mmin\u001B[39m(a, b), \u001B[38;5;28mmax\u001B[39m(a, b)\n\u001B[1;32m    350\u001B[0m \u001B[38;5;28;01mif\u001B[39;00m weight \u001B[38;5;129;01mis\u001B[39;00m \u001B[38;5;28;01mNone\u001B[39;00m:\n\u001B[0;32m--> 351\u001B[0m     retval \u001B[38;5;241m=\u001B[39m \u001B[43m_quad\u001B[49m\u001B[43m(\u001B[49m\u001B[43mfunc\u001B[49m\u001B[43m,\u001B[49m\u001B[43m \u001B[49m\u001B[43ma\u001B[49m\u001B[43m,\u001B[49m\u001B[43m \u001B[49m\u001B[43mb\u001B[49m\u001B[43m,\u001B[49m\u001B[43m \u001B[49m\u001B[43margs\u001B[49m\u001B[43m,\u001B[49m\u001B[43m \u001B[49m\u001B[43mfull_output\u001B[49m\u001B[43m,\u001B[49m\u001B[43m \u001B[49m\u001B[43mepsabs\u001B[49m\u001B[43m,\u001B[49m\u001B[43m \u001B[49m\u001B[43mepsrel\u001B[49m\u001B[43m,\u001B[49m\u001B[43m \u001B[49m\u001B[43mlimit\u001B[49m\u001B[43m,\u001B[49m\n\u001B[1;32m    352\u001B[0m \u001B[43m                   \u001B[49m\u001B[43mpoints\u001B[49m\u001B[43m)\u001B[49m\n\u001B[1;32m    353\u001B[0m \u001B[38;5;28;01melse\u001B[39;00m:\n\u001B[1;32m    354\u001B[0m     \u001B[38;5;28;01mif\u001B[39;00m points \u001B[38;5;129;01mis\u001B[39;00m \u001B[38;5;129;01mnot\u001B[39;00m \u001B[38;5;28;01mNone\u001B[39;00m:\n",
      "File \u001B[0;32m~/.local/lib/python3.8/site-packages/scipy/integrate/quadpack.py:465\u001B[0m, in \u001B[0;36m_quad\u001B[0;34m(func, a, b, args, full_output, epsabs, epsrel, limit, points)\u001B[0m\n\u001B[1;32m    463\u001B[0m         \u001B[38;5;28;01mreturn\u001B[39;00m _quadpack\u001B[38;5;241m.\u001B[39m_qagse(func,a,b,args,full_output,epsabs,epsrel,limit)\n\u001B[1;32m    464\u001B[0m     \u001B[38;5;28;01melse\u001B[39;00m:\n\u001B[0;32m--> 465\u001B[0m         \u001B[38;5;28;01mreturn\u001B[39;00m \u001B[43m_quadpack\u001B[49m\u001B[38;5;241;43m.\u001B[39;49m\u001B[43m_qagie\u001B[49m\u001B[43m(\u001B[49m\u001B[43mfunc\u001B[49m\u001B[43m,\u001B[49m\u001B[43mbound\u001B[49m\u001B[43m,\u001B[49m\u001B[43minfbounds\u001B[49m\u001B[43m,\u001B[49m\u001B[43margs\u001B[49m\u001B[43m,\u001B[49m\u001B[43mfull_output\u001B[49m\u001B[43m,\u001B[49m\u001B[43mepsabs\u001B[49m\u001B[43m,\u001B[49m\u001B[43mepsrel\u001B[49m\u001B[43m,\u001B[49m\u001B[43mlimit\u001B[49m\u001B[43m)\u001B[49m\n\u001B[1;32m    466\u001B[0m \u001B[38;5;28;01melse\u001B[39;00m:\n\u001B[1;32m    467\u001B[0m     \u001B[38;5;28;01mif\u001B[39;00m infbounds \u001B[38;5;241m!=\u001B[39m \u001B[38;5;241m0\u001B[39m:\n",
      "File \u001B[0;32m~/.local/lib/python3.8/site-packages/scipy/integrate/quadpack.py:879\u001B[0m, in \u001B[0;36m_NQuad.integrate\u001B[0;34m(self, *args, **kwargs)\u001B[0m\n\u001B[1;32m    877\u001B[0m \u001B[38;5;28;01melse\u001B[39;00m:\n\u001B[1;32m    878\u001B[0m     f \u001B[38;5;241m=\u001B[39m partial(\u001B[38;5;28mself\u001B[39m\u001B[38;5;241m.\u001B[39mintegrate, depth\u001B[38;5;241m=\u001B[39mdepth\u001B[38;5;241m+\u001B[39m\u001B[38;5;241m1\u001B[39m)\n\u001B[0;32m--> 879\u001B[0m quad_r \u001B[38;5;241m=\u001B[39m \u001B[43mquad\u001B[49m\u001B[43m(\u001B[49m\u001B[43mf\u001B[49m\u001B[43m,\u001B[49m\u001B[43m \u001B[49m\u001B[43mlow\u001B[49m\u001B[43m,\u001B[49m\u001B[43m \u001B[49m\u001B[43mhigh\u001B[49m\u001B[43m,\u001B[49m\u001B[43m \u001B[49m\u001B[43margs\u001B[49m\u001B[38;5;241;43m=\u001B[39;49m\u001B[43margs\u001B[49m\u001B[43m,\u001B[49m\u001B[43m \u001B[49m\u001B[43mfull_output\u001B[49m\u001B[38;5;241;43m=\u001B[39;49m\u001B[38;5;28;43mself\u001B[39;49m\u001B[38;5;241;43m.\u001B[39;49m\u001B[43mfull_output\u001B[49m\u001B[43m,\u001B[49m\n\u001B[1;32m    880\u001B[0m \u001B[43m              \u001B[49m\u001B[38;5;241;43m*\u001B[39;49m\u001B[38;5;241;43m*\u001B[39;49m\u001B[43mopt\u001B[49m\u001B[43m)\u001B[49m\n\u001B[1;32m    881\u001B[0m value \u001B[38;5;241m=\u001B[39m quad_r[\u001B[38;5;241m0\u001B[39m]\n\u001B[1;32m    882\u001B[0m abserr \u001B[38;5;241m=\u001B[39m quad_r[\u001B[38;5;241m1\u001B[39m]\n",
      "File \u001B[0;32m~/.local/lib/python3.8/site-packages/scipy/integrate/quadpack.py:351\u001B[0m, in \u001B[0;36mquad\u001B[0;34m(func, a, b, args, full_output, epsabs, epsrel, limit, points, weight, wvar, wopts, maxp1, limlst)\u001B[0m\n\u001B[1;32m    348\u001B[0m flip, a, b \u001B[38;5;241m=\u001B[39m b \u001B[38;5;241m<\u001B[39m a, \u001B[38;5;28mmin\u001B[39m(a, b), \u001B[38;5;28mmax\u001B[39m(a, b)\n\u001B[1;32m    350\u001B[0m \u001B[38;5;28;01mif\u001B[39;00m weight \u001B[38;5;129;01mis\u001B[39;00m \u001B[38;5;28;01mNone\u001B[39;00m:\n\u001B[0;32m--> 351\u001B[0m     retval \u001B[38;5;241m=\u001B[39m \u001B[43m_quad\u001B[49m\u001B[43m(\u001B[49m\u001B[43mfunc\u001B[49m\u001B[43m,\u001B[49m\u001B[43m \u001B[49m\u001B[43ma\u001B[49m\u001B[43m,\u001B[49m\u001B[43m \u001B[49m\u001B[43mb\u001B[49m\u001B[43m,\u001B[49m\u001B[43m \u001B[49m\u001B[43margs\u001B[49m\u001B[43m,\u001B[49m\u001B[43m \u001B[49m\u001B[43mfull_output\u001B[49m\u001B[43m,\u001B[49m\u001B[43m \u001B[49m\u001B[43mepsabs\u001B[49m\u001B[43m,\u001B[49m\u001B[43m \u001B[49m\u001B[43mepsrel\u001B[49m\u001B[43m,\u001B[49m\u001B[43m \u001B[49m\u001B[43mlimit\u001B[49m\u001B[43m,\u001B[49m\n\u001B[1;32m    352\u001B[0m \u001B[43m                   \u001B[49m\u001B[43mpoints\u001B[49m\u001B[43m)\u001B[49m\n\u001B[1;32m    353\u001B[0m \u001B[38;5;28;01melse\u001B[39;00m:\n\u001B[1;32m    354\u001B[0m     \u001B[38;5;28;01mif\u001B[39;00m points \u001B[38;5;129;01mis\u001B[39;00m \u001B[38;5;129;01mnot\u001B[39;00m \u001B[38;5;28;01mNone\u001B[39;00m:\n",
      "File \u001B[0;32m~/.local/lib/python3.8/site-packages/scipy/integrate/quadpack.py:465\u001B[0m, in \u001B[0;36m_quad\u001B[0;34m(func, a, b, args, full_output, epsabs, epsrel, limit, points)\u001B[0m\n\u001B[1;32m    463\u001B[0m         \u001B[38;5;28;01mreturn\u001B[39;00m _quadpack\u001B[38;5;241m.\u001B[39m_qagse(func,a,b,args,full_output,epsabs,epsrel,limit)\n\u001B[1;32m    464\u001B[0m     \u001B[38;5;28;01melse\u001B[39;00m:\n\u001B[0;32m--> 465\u001B[0m         \u001B[38;5;28;01mreturn\u001B[39;00m \u001B[43m_quadpack\u001B[49m\u001B[38;5;241;43m.\u001B[39;49m\u001B[43m_qagie\u001B[49m\u001B[43m(\u001B[49m\u001B[43mfunc\u001B[49m\u001B[43m,\u001B[49m\u001B[43mbound\u001B[49m\u001B[43m,\u001B[49m\u001B[43minfbounds\u001B[49m\u001B[43m,\u001B[49m\u001B[43margs\u001B[49m\u001B[43m,\u001B[49m\u001B[43mfull_output\u001B[49m\u001B[43m,\u001B[49m\u001B[43mepsabs\u001B[49m\u001B[43m,\u001B[49m\u001B[43mepsrel\u001B[49m\u001B[43m,\u001B[49m\u001B[43mlimit\u001B[49m\u001B[43m)\u001B[49m\n\u001B[1;32m    466\u001B[0m \u001B[38;5;28;01melse\u001B[39;00m:\n\u001B[1;32m    467\u001B[0m     \u001B[38;5;28;01mif\u001B[39;00m infbounds \u001B[38;5;241m!=\u001B[39m \u001B[38;5;241m0\u001B[39m:\n",
      "File \u001B[0;32m~/.local/lib/python3.8/site-packages/scipy/integrate/quadpack.py:879\u001B[0m, in \u001B[0;36m_NQuad.integrate\u001B[0;34m(self, *args, **kwargs)\u001B[0m\n\u001B[1;32m    877\u001B[0m \u001B[38;5;28;01melse\u001B[39;00m:\n\u001B[1;32m    878\u001B[0m     f \u001B[38;5;241m=\u001B[39m partial(\u001B[38;5;28mself\u001B[39m\u001B[38;5;241m.\u001B[39mintegrate, depth\u001B[38;5;241m=\u001B[39mdepth\u001B[38;5;241m+\u001B[39m\u001B[38;5;241m1\u001B[39m)\n\u001B[0;32m--> 879\u001B[0m quad_r \u001B[38;5;241m=\u001B[39m \u001B[43mquad\u001B[49m\u001B[43m(\u001B[49m\u001B[43mf\u001B[49m\u001B[43m,\u001B[49m\u001B[43m \u001B[49m\u001B[43mlow\u001B[49m\u001B[43m,\u001B[49m\u001B[43m \u001B[49m\u001B[43mhigh\u001B[49m\u001B[43m,\u001B[49m\u001B[43m \u001B[49m\u001B[43margs\u001B[49m\u001B[38;5;241;43m=\u001B[39;49m\u001B[43margs\u001B[49m\u001B[43m,\u001B[49m\u001B[43m \u001B[49m\u001B[43mfull_output\u001B[49m\u001B[38;5;241;43m=\u001B[39;49m\u001B[38;5;28;43mself\u001B[39;49m\u001B[38;5;241;43m.\u001B[39;49m\u001B[43mfull_output\u001B[49m\u001B[43m,\u001B[49m\n\u001B[1;32m    880\u001B[0m \u001B[43m              \u001B[49m\u001B[38;5;241;43m*\u001B[39;49m\u001B[38;5;241;43m*\u001B[39;49m\u001B[43mopt\u001B[49m\u001B[43m)\u001B[49m\n\u001B[1;32m    881\u001B[0m value \u001B[38;5;241m=\u001B[39m quad_r[\u001B[38;5;241m0\u001B[39m]\n\u001B[1;32m    882\u001B[0m abserr \u001B[38;5;241m=\u001B[39m quad_r[\u001B[38;5;241m1\u001B[39m]\n",
      "File \u001B[0;32m~/.local/lib/python3.8/site-packages/scipy/integrate/quadpack.py:351\u001B[0m, in \u001B[0;36mquad\u001B[0;34m(func, a, b, args, full_output, epsabs, epsrel, limit, points, weight, wvar, wopts, maxp1, limlst)\u001B[0m\n\u001B[1;32m    348\u001B[0m flip, a, b \u001B[38;5;241m=\u001B[39m b \u001B[38;5;241m<\u001B[39m a, \u001B[38;5;28mmin\u001B[39m(a, b), \u001B[38;5;28mmax\u001B[39m(a, b)\n\u001B[1;32m    350\u001B[0m \u001B[38;5;28;01mif\u001B[39;00m weight \u001B[38;5;129;01mis\u001B[39;00m \u001B[38;5;28;01mNone\u001B[39;00m:\n\u001B[0;32m--> 351\u001B[0m     retval \u001B[38;5;241m=\u001B[39m \u001B[43m_quad\u001B[49m\u001B[43m(\u001B[49m\u001B[43mfunc\u001B[49m\u001B[43m,\u001B[49m\u001B[43m \u001B[49m\u001B[43ma\u001B[49m\u001B[43m,\u001B[49m\u001B[43m \u001B[49m\u001B[43mb\u001B[49m\u001B[43m,\u001B[49m\u001B[43m \u001B[49m\u001B[43margs\u001B[49m\u001B[43m,\u001B[49m\u001B[43m \u001B[49m\u001B[43mfull_output\u001B[49m\u001B[43m,\u001B[49m\u001B[43m \u001B[49m\u001B[43mepsabs\u001B[49m\u001B[43m,\u001B[49m\u001B[43m \u001B[49m\u001B[43mepsrel\u001B[49m\u001B[43m,\u001B[49m\u001B[43m \u001B[49m\u001B[43mlimit\u001B[49m\u001B[43m,\u001B[49m\n\u001B[1;32m    352\u001B[0m \u001B[43m                   \u001B[49m\u001B[43mpoints\u001B[49m\u001B[43m)\u001B[49m\n\u001B[1;32m    353\u001B[0m \u001B[38;5;28;01melse\u001B[39;00m:\n\u001B[1;32m    354\u001B[0m     \u001B[38;5;28;01mif\u001B[39;00m points \u001B[38;5;129;01mis\u001B[39;00m \u001B[38;5;129;01mnot\u001B[39;00m \u001B[38;5;28;01mNone\u001B[39;00m:\n",
      "File \u001B[0;32m~/.local/lib/python3.8/site-packages/scipy/integrate/quadpack.py:465\u001B[0m, in \u001B[0;36m_quad\u001B[0;34m(func, a, b, args, full_output, epsabs, epsrel, limit, points)\u001B[0m\n\u001B[1;32m    463\u001B[0m         \u001B[38;5;28;01mreturn\u001B[39;00m _quadpack\u001B[38;5;241m.\u001B[39m_qagse(func,a,b,args,full_output,epsabs,epsrel,limit)\n\u001B[1;32m    464\u001B[0m     \u001B[38;5;28;01melse\u001B[39;00m:\n\u001B[0;32m--> 465\u001B[0m         \u001B[38;5;28;01mreturn\u001B[39;00m \u001B[43m_quadpack\u001B[49m\u001B[38;5;241;43m.\u001B[39;49m\u001B[43m_qagie\u001B[49m\u001B[43m(\u001B[49m\u001B[43mfunc\u001B[49m\u001B[43m,\u001B[49m\u001B[43mbound\u001B[49m\u001B[43m,\u001B[49m\u001B[43minfbounds\u001B[49m\u001B[43m,\u001B[49m\u001B[43margs\u001B[49m\u001B[43m,\u001B[49m\u001B[43mfull_output\u001B[49m\u001B[43m,\u001B[49m\u001B[43mepsabs\u001B[49m\u001B[43m,\u001B[49m\u001B[43mepsrel\u001B[49m\u001B[43m,\u001B[49m\u001B[43mlimit\u001B[49m\u001B[43m)\u001B[49m\n\u001B[1;32m    466\u001B[0m \u001B[38;5;28;01melse\u001B[39;00m:\n\u001B[1;32m    467\u001B[0m     \u001B[38;5;28;01mif\u001B[39;00m infbounds \u001B[38;5;241m!=\u001B[39m \u001B[38;5;241m0\u001B[39m:\n",
      "Input \u001B[0;32mIn [68]\u001B[0m, in \u001B[0;36mcmplx_quad.<locals>.real_func\u001B[0;34m(x, y, z)\u001B[0m\n\u001B[1;32m     17\u001B[0m \u001B[38;5;28;01mdef\u001B[39;00m \u001B[38;5;21mreal_func\u001B[39m(x,y,z):\n\u001B[0;32m---> 18\u001B[0m     \u001B[38;5;28;01mreturn\u001B[39;00m np\u001B[38;5;241m.\u001B[39mreal(\u001B[43mfunc\u001B[49m\u001B[43m(\u001B[49m\u001B[43mx\u001B[49m\u001B[43m,\u001B[49m\u001B[43my\u001B[49m\u001B[43m,\u001B[49m\u001B[43mz\u001B[49m\u001B[43m)\u001B[49m)\n",
      "Input \u001B[0;32mIn [68]\u001B[0m, in \u001B[0;36mfunc\u001B[0;34m(x, y, z)\u001B[0m\n\u001B[1;32m     12\u001B[0m \u001B[38;5;28;01mdef\u001B[39;00m \u001B[38;5;21mfunc\u001B[39m(x,y,z):\n\u001B[0;32m---> 13\u001B[0m     res \u001B[38;5;241m=\u001B[39m np\u001B[38;5;241m.\u001B[39mexp(\u001B[38;5;241m-\u001B[39m\u001B[38;5;241m1\u001B[39mj\u001B[38;5;241m*\u001B[39m(\u001B[43mpx\u001B[49m\u001B[38;5;241;43m*\u001B[39;49m\u001B[43mx\u001B[49m\u001B[43m \u001B[49m\u001B[38;5;241;43m+\u001B[39;49m\u001B[43m \u001B[49m\u001B[43mpy\u001B[49m\u001B[38;5;241;43m*\u001B[39;49m\u001B[43my\u001B[49m\u001B[43m \u001B[49m\u001B[38;5;241;43m+\u001B[39;49m\u001B[43m \u001B[49m\u001B[43mpz\u001B[49m\u001B[38;5;241;43m*\u001B[39;49m\u001B[43mz\u001B[49m \u001B[38;5;241m+\u001B[39m z\u001B[38;5;241m*\u001B[39mA)) \u001B[38;5;241m*\u001B[39m E\u001B[38;5;241m*\u001B[39mz \u001B[38;5;241m*\u001B[39m GTO(x,y,z,x0,y0,z0,i,j,k,alpha)\n\u001B[1;32m     14\u001B[0m     \u001B[38;5;28;01mreturn\u001B[39;00m \u001B[38;5;241m1\u001B[39m\u001B[38;5;241m/\u001B[39m(\u001B[38;5;241m2\u001B[39m\u001B[38;5;241m*\u001B[39mnp\u001B[38;5;241m.\u001B[39mpi)\u001B[38;5;241m*\u001B[39m\u001B[38;5;241m*\u001B[39m(\u001B[38;5;241m3\u001B[39m\u001B[38;5;241m/\u001B[39m\u001B[38;5;241m2\u001B[39m) \u001B[38;5;241m*\u001B[39m res\n",
      "\u001B[0;31mKeyboardInterrupt\u001B[0m: "
     ]
    }
   ],
   "source": [
    "dp = 2/250\n",
    "pz_list = np.arange(-1.3, 1.3, dp)\n",
    "px_list = np.arange(0, 1., dp)\n",
    "\n",
    "d_grid = np.zeros((len(pz_list), len(px_list)), dtype=complex)\n",
    "for m,pz in enumerate(pz_list):\n",
    "    print(m)\n",
    "    for n,px in enumerate(px_list):\n",
    "        ts = saddle_times(pz,px,0)[0]\n",
    "        E = Ef(ts)\n",
    "        A = Af(ts)\n",
    "        for coeffs in GTO_coeffs:\n",
    "            N, alpha, i, j, k, x0, y0, z0 = coeffs\n",
    "            d_grid[m,n] += cmplx_quad(func, -np.inf, np.inf)[0]\n",
    "\n",
    "d_square = np.abs(d_grid)**2\n",
    "d_max = np.max(d_square)"
   ],
   "metadata": {
    "collapsed": false,
    "pycharm": {
     "name": "#%%\n"
    }
   }
  },
  {
   "cell_type": "markdown",
   "source": [
    "## Ionisation prefactor for asymptoic wave function $d=\\langle \\mathbf{p}+\\mathbf{A}(t)|\\hat{\\mathbf{r}}\\cdot\\mathbf{E}(t)|\\psi_\\text{as}\\rangle$"
   ],
   "metadata": {
    "collapsed": false,
    "pycharm": {
     "name": "#%% md\n"
    }
   }
  },
  {
   "cell_type": "code",
   "execution_count": 8,
   "outputs": [
    {
     "name": "stdout",
     "output_type": "stream",
     "text": [
      "1.0\n"
     ]
    }
   ],
   "source": [
    "from mpmath import hyp2f1\n",
    "print(hyp2f1(1.5, 2.5, 1.5, 0))"
   ],
   "metadata": {
    "collapsed": false,
    "pycharm": {
     "name": "#%%\n"
    }
   }
  }
 ],
 "metadata": {
  "kernelspec": {
   "display_name": "Python 3",
   "language": "python",
   "name": "python3"
  },
  "language_info": {
   "codemirror_mode": {
    "name": "ipython",
    "version": 2
   },
   "file_extension": ".py",
   "mimetype": "text/x-python",
   "name": "python",
   "nbconvert_exporter": "python",
   "pygments_lexer": "ipython2",
   "version": "2.7.6"
  }
 },
 "nbformat": 4,
 "nbformat_minor": 0
}