{
 "cells": [
  {
   "cell_type": "code",
   "execution_count": null,
   "metadata": {
    "collapsed": true
   },
   "outputs": [],
   "source": [
    "import numpy as np\n",
    "import matplotlib.pyplot as plt\n",
    "from prefactors import GTO_prefactor_LG"
   ]
  },
  {
   "cell_type": "code",
   "execution_count": null,
   "outputs": [],
   "source": [
    "omega = 0.057     # Frequency of light?\n",
    "Up = 0.22         # Ponderomotive potential\n",
    "Ip = 0.579        # Ionization potential\n",
    "\n",
    "dp = 4./250\n",
    "pz_list = np.arange(-1.7, 1.7, dp)\n",
    "px_list = np.arange(0, 1.7, dp)\n",
    "pz_grid, px_grid = np.meshgrid(pz_list, px_list)\n",
    "py = 0"
   ],
   "metadata": {
    "collapsed": false,
    "pycharm": {
     "name": "#%%\n"
    }
   }
  },
  {
   "cell_type": "code",
   "execution_count": null,
   "outputs": [],
   "source": [
    "def Af(t):\n",
    "    return 2*np.sqrt(Up) * np.cos(omega * t)\n",
    "\n",
    "def Ef(t):\n",
    "    return -2*np.sqrt(Up) * omega * np.sin(omega * t)\n",
    "\n",
    "def saddle_times(p_par, p_perp, n):\n",
    "    \"\"\"\n",
    "        Finds the saddle point times for a monochromatic wave A = 2*sqrt(Up) cos(omega * t). See Eq. (4.4) in Andrew's thesis.\n",
    "        p_par : parallel momentum (pz)\n",
    "        p_perp : perpendicular momentum\n",
    "    \"\"\"\n",
    "    t1 =  2*np.pi*n/omega + 1/omega * np.arccos((-p_par - 1j*np.sqrt(2*Ip + p_perp**2)) / (2*np.sqrt(Up)))\n",
    "    t2 =  2*np.pi*n/omega - 1/omega * np.arccos((-p_par + 1j*np.sqrt(2*Ip + p_perp**2)) / (2*np.sqrt(Up)))\n",
    "    return t1, t2"
   ],
   "metadata": {
    "collapsed": false,
    "pycharm": {
     "name": "#%%\n"
    }
   }
  },
  {
   "cell_type": "code",
   "execution_count": null,
   "outputs": [],
   "source": [],
   "metadata": {
    "collapsed": false,
    "pycharm": {
     "name": "#%%\n"
    }
   }
  }
 ],
 "metadata": {
  "kernelspec": {
   "display_name": "Python 3",
   "language": "python",
   "name": "python3"
  },
  "language_info": {
   "codemirror_mode": {
    "name": "ipython",
    "version": 2
   },
   "file_extension": ".py",
   "mimetype": "text/x-python",
   "name": "python",
   "nbconvert_exporter": "python",
   "pygments_lexer": "ipython2",
   "version": "2.7.6"
  }
 },
 "nbformat": 4,
 "nbformat_minor": 0
}