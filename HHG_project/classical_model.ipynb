{
 "cells": [
  {
   "cell_type": "code",
   "execution_count": 20,
   "outputs": [],
   "source": [
    "import numpy as np\n",
    "import matplotlib.pyplot as plt\n",
    "from scipy.optimize import fsolve"
   ],
   "metadata": {
    "collapsed": false,
    "pycharm": {
     "name": "#%%\n"
    }
   }
  },
  {
   "cell_type": "markdown",
   "metadata": {
    "collapsed": true,
    "pycharm": {
     "name": "#%% md\n"
    }
   },
   "source": [
    "In this file we look at the classical three step model for HHG and try to estimate the cutoff energy."
   ]
  },
  {
   "cell_type": "code",
   "execution_count": 12,
   "outputs": [],
   "source": [
    "Up = 0.22\n",
    "omega = 0.057\n",
    "E0 = 2*omega*np.sqrt(Up)\n",
    "\n",
    "def position(theta, theta0):\n",
    "    return E0/omega * (np.cos(theta) - np.cos(theta0) + (theta-theta0) * np.sin(theta0))\n",
    "\n",
    "def recomb_times(theta, theta0):\n",
    "    return np.cos(theta) - np.cos(theta0) + (theta-theta0) * np.sin(theta0)"
   ],
   "metadata": {
    "collapsed": false,
    "pycharm": {
     "name": "#%%\n"
    }
   }
  },
  {
   "cell_type": "code",
   "execution_count": 151,
   "outputs": [],
   "source": [
    "def locate_sign_change(theta0, d_theta, max_theta, max_crossings=1):\n",
    "    theta_i = theta0 + d_theta\n",
    "    old_sign = np.sign(recomb_times(theta_i, theta0))\n",
    "    cross_points = []\n",
    "\n",
    "    while theta_i < max_theta:\n",
    "        theta_i += d_theta\n",
    "        new_sign = np.sign(recomb_times(theta_i, theta0))\n",
    "        if new_sign != old_sign:\n",
    "            cross_points.append(theta_i - d_theta)\n",
    "            if len(cross_points) >= max_crossings:\n",
    "                break\n",
    "        old_sign = new_sign\n",
    "    return cross_points\n",
    "\n",
    "def locate_zero(theta_i, theta0, d_theta, err=1e-4, max_iter=1000):\n",
    "    sign = np.sign(recomb_times(theta_i, theta0))\n",
    "    theta_root = theta_i\n",
    "    step_size = d_theta\n",
    "    i = 1\n",
    "\n",
    "    while True:\n",
    "        i += 1\n",
    "        theta_root_i = theta_root + step_size\n",
    "        if np.sign(recomb_times(theta_root_i, theta0)) != sign:\n",
    "            step_size /= 2\n",
    "        else:\n",
    "            theta_root = theta_root_i\n",
    "        if step_size < err:\n",
    "            #print(f'Precision reached at iteration {i}')\n",
    "            break\n",
    "        if i >= max_iter:\n",
    "            #print('Max iterations reached - returning current result')\n",
    "            break\n",
    "        #print(theta_root)\n",
    "    return theta_root"
   ],
   "metadata": {
    "collapsed": false,
    "pycharm": {
     "name": "#%%\n"
    }
   }
  },
  {
   "cell_type": "code",
   "execution_count": 179,
   "outputs": [
    {
     "data": {
      "text/plain": "<matplotlib.lines.Line2D at 0x7faef4f33eb0>"
     },
     "execution_count": 179,
     "metadata": {},
     "output_type": "execute_result"
    },
    {
     "data": {
      "text/plain": "<Figure size 432x288 with 1 Axes>",
      "image/png": "[encoded data removed]"
     },
     "metadata": {},
     "output_type": "display_data"
    }
   ],
   "source": [
    "theta0 = 0.5\n",
    "theta_list = np.linspace(theta0, 2*np.pi, 100)\n",
    "\n",
    "plt.figure(facecolor='white')\n",
    "plt.plot(theta_list, recomb_times(theta_list, theta0))\n",
    "plt.axhline(0)"
   ],
   "metadata": {
    "collapsed": false,
    "pycharm": {
     "name": "#%%\n"
    }
   }
  },
  {
   "cell_type": "code",
   "execution_count": 181,
   "outputs": [
    {
     "name": "stdout",
     "output_type": "stream",
     "text": [
      "[3.8699999999999615]\n",
      "[3.8770312499999613]\n"
     ]
    }
   ],
   "source": [
    "d_theta = 0.01\n",
    "\n",
    "rough_roots = locate_sign_change(theta0, d_theta, 2*np.pi)\n",
    "\n",
    "roots = []\n",
    "for root in rough_roots:\n",
    "    roots.append(locate_zero(root, theta0, d_theta, 1e-4))\n",
    "\n",
    "print(rough_roots)\n",
    "print(roots)"
   ],
   "metadata": {
    "collapsed": false,
    "pycharm": {
     "name": "#%%\n"
    }
   }
  },
  {
   "cell_type": "markdown",
   "source": [
    "# Let's try to calculate for several theta0"
   ],
   "metadata": {
    "collapsed": false,
    "pycharm": {
     "name": "#%% md\n"
    }
   }
  },
  {
   "cell_type": "code",
   "execution_count": 175,
   "outputs": [
    {
     "name": "stdout",
     "output_type": "stream",
     "text": [
      "Max energy : 3.172638819494193 Up\n"
     ]
    }
   ],
   "source": [
    "theta0_list = np.linspace(0.01, np.pi/2, 100)[:-1]\n",
    "d_theta = 0.01\n",
    "root_list = []\n",
    "\n",
    "for theta0 in theta0_list:\n",
    "    rough_roots = locate_sign_change(theta0, d_theta, 2*np.pi)\n",
    "    root_list.append(locate_zero(rough_roots[0], theta0, d_theta, 1e-4))\n",
    "\n",
    "energy_list = [2 * (np.sin(theta_root) - np.sin(theta0))**2 for theta_root, theta0 in zip(root_list, theta0_list)]\n",
    "print(f'Max energy : {max(energy_list)} Up')"
   ],
   "metadata": {
    "collapsed": false,
    "pycharm": {
     "name": "#%%\n"
    }
   }
  },
  {
   "cell_type": "code",
   "execution_count": 176,
   "outputs": [
    {
     "data": {
      "text/plain": "[<matplotlib.lines.Line2D at 0x7faef5028790>]"
     },
     "execution_count": 176,
     "metadata": {},
     "output_type": "execute_result"
    },
    {
     "data": {
      "text/plain": "<Figure size 432x288 with 1 Axes>",
      "image/png": "[encoded data removed]"
     },
     "metadata": {},
     "output_type": "display_data"
    }
   ],
   "source": [
    "plt.figure(facecolor='white')\n",
    "plt.plot(np.rad2deg(root_list), energy_list)"
   ],
   "metadata": {
    "collapsed": false,
    "pycharm": {
     "name": "#%%\n"
    }
   }
  }
 ],
 "metadata": {
  "kernelspec": {
   "display_name": "Python 3",
   "language": "python",
   "name": "python3"
  },
  "language_info": {
   "codemirror_mode": {
    "name": "ipython",
    "version": 2
   },
   "file_extension": ".py",
   "mimetype": "text/x-python",
   "name": "python",
   "nbconvert_exporter": "python",
   "pygments_lexer": "ipython2",
   "version": "2.7.6"
  }
 },
 "nbformat": 4,
 "nbformat_minor": 0
}